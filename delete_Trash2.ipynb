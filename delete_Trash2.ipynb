{
  "nbformat": 4,
  "nbformat_minor": 0,
  "metadata": {
    "colab": {
      "name": "delete Trash",
      "provenance": [],
      "collapsed_sections": []
    },
    "kernelspec": {
      "name": "python3",
      "display_name": "Python 3"
    }
  },
  "cells": [
    {
      "cell_type": "markdown",
      "metadata": {
        "id": "wZBBAoLH0YGg"
      },
      "source": [
        "# New Section"
      ]
    },
    {
      "cell_type": "code",
      "metadata": {
        "id": "LJZRcEw0LoBd"
      },
      "source": [
        "# This cell imports the drive library and mounts your Google Drive as a VM local drive. You can access to your Drive files \n",
        "# using this path \"/content/drive/\"\n",
        "\n",
        "from google.colab import drive\n",
        "drive.mount('/content/drive')"
      ],
      "execution_count": null,
      "outputs": []
    },
    {
      "cell_type": "code",
      "metadata": {
        "id": "hpuy1Ldk4rPp"
      },
      "source": [
        "%cd /content/drive/MyDrive/\n",
        "!ls -lah"
      ],
      "execution_count": null,
      "outputs": []
    },
    {
      "cell_type": "code",
      "metadata": {
        "id": "qF7dytRU0vjc"
      },
      "source": [
        "from pydrive.auth import GoogleAuth\n",
        "from pydrive.drive import GoogleDrive\n",
        "from google.colab import auth\n",
        "from oauth2client.client import GoogleCredentials\n",
        "\n",
        "auth.authenticate_user()\n",
        "gauth = GoogleAuth()\n",
        "gauth.credentials = GoogleCredentials.get_application_default()\n",
        "my_drive = GoogleDrive(gauth)"
      ],
      "execution_count": 3,
      "outputs": []
    },
    {
      "cell_type": "code",
      "metadata": {
        "id": "zgMDsU2b05_a"
      },
      "source": [
        "import time\n",
        "\n",
        "stop=False\n",
        "while(not stop):\n",
        "  try:\n",
        "    listFiles = my_drive.ListFile({'q': \"trashed = true\", 'maxResults':500}).GetList()\n",
        "    total = len(listFiles)\n",
        "    print('list files len=', total)\n",
        "    if total<=100:\n",
        "      stop = True\n",
        "\n",
        "    for i,a_file in enumerate(listFiles):\n",
        "        # print the name of the file being deleted.\n",
        "        #print(str(i)+'/'+str(total), a_file, 'is about to get deleted permanently.')\n",
        "        if i%50==0:\n",
        "          print(str(i)+'/'+str(total), 'title: %s, id: %s' % (a_file['title'], a_file['id']))\n",
        "\n",
        "        # delete the file permanently.\n",
        "        try:\n",
        "          a_file.Delete()\n",
        "        except:\n",
        "          print('delete files error!')\n",
        "          pass\n",
        "  except:\n",
        "    print('list files error!')\n",
        "    time.sleep(5)\n",
        "      #break"
      ],
      "execution_count": null,
      "outputs": []
    }
  ]
}