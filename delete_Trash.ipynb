{
  "nbformat": 4,
  "nbformat_minor": 0,
  "metadata": {
    "colab": {
      "name": "delete Trash",
      "provenance": [],
      "collapsed_sections": []
    },
    "kernelspec": {
      "name": "python3",
      "display_name": "Python 3"
    }
  },
  "cells": [
    {
      "cell_type": "markdown",
      "metadata": {
        "id": "wZBBAoLH0YGg"
      },
      "source": [
        "# New Section"
      ]
    },
    {
      "cell_type": "code",
      "metadata": {
        "id": "LJZRcEw0LoBd"
      },
      "source": [
        "# This cell imports the drive library and mounts your Google Drive as a VM local drive. You can access to your Drive files \n",
        "# using this path \"/content/drive/\"\n",
        "\n",
        "from google.colab import drive\n",
        "drive.mount('/content/drive')"
      ],
      "execution_count": null,
      "outputs": []
    },
    {
      "cell_type": "code",
      "metadata": {
        "id": "hpuy1Ldk4rPp"
      },
      "source": [
        "%cd /content/drive/MyDrive/\n",
        "!ls -lah"
      ],
      "execution_count": null,
      "outputs": []
    },
    {
      "cell_type": "code",
      "metadata": {
        "id": "qF7dytRU0vjc"
      },
      "source": [
        "from pydrive.auth import GoogleAuth\n",
        "from pydrive.drive import GoogleDrive\n",
        "from google.colab import auth\n",
        "from oauth2client.client import GoogleCredentials\n",
        "\n",
        "auth.authenticate_user()\n",
        "gauth = GoogleAuth()\n",
        "gauth.credentials = GoogleCredentials.get_application_default()\n",
        "my_drive = GoogleDrive(gauth)"
      ],
      "execution_count": 3,
      "outputs": []
    },
    {
      "cell_type": "code",
      "metadata": {
        "colab": {
          "base_uri": "https://localhost:8080/"
        },
        "id": "zgMDsU2b05_a",
        "outputId": "324ebb06-fa21-4814-c2bf-fe1d026540ad"
      },
      "source": [
        "stop=False\n",
        "while(not stop):\n",
        "  listFiles = my_drive.ListFile({'q': \"trashed = true\", 'maxResults':500}).GetList()\n",
        "  total = len(listFiles)\n",
        "  print('list files len=', total)\n",
        "  if total<=100:\n",
        "    stop = True\n",
        "\n",
        "  for i,a_file in enumerate(listFiles):\n",
        "      # print the name of the file being deleted.\n",
        "      #print(str(i)+'/'+str(total), a_file, 'is about to get deleted permanently.')\n",
        "      if i%50==0:\n",
        "        print(str(i)+'/'+str(total), 'title: %s, id: %s' % (a_file['title'], a_file['id']))\n",
        "\n",
        "      # delete the file permanently.\n",
        "      try:\n",
        "        a_file.Delete()\n",
        "      except:\n",
        "        pass\n",
        "      #break"
      ],
      "execution_count": null,
      "outputs": [
        {
          "output_type": "stream",
          "text": [
            "list files len= 460\n",
            "0/460 title: 000628.jpg, id: 1D17OyEFTmmmhcmM_NFwXS-ULDKKQfJbz\n",
            "50/460 title: 000068.jpg, id: 1N5QVo9ZYj_3Nk6Wr0B861vqKLJ_b9zjS\n",
            "100/460 title: 000907.jpg, id: 11jH7h_MRjT8LXKB2keuzkty-7uf6FXAv\n",
            "150/460 title: 000767.jpg, id: 1_Fxki_1SqquoW1iMk_3S-uCotiOSmUah\n",
            "200/460 title: 000596.jpg, id: 1Yrar-2NUAKSyRcyAOEFl8thaBHFpp1qB\n",
            "250/460 title: 000874.jpg, id: 1UXcUcjJBMZHN9Xa_P530FHOFr2CFeJmp\n",
            "300/460 title: 000514.jpg, id: 1a40Vy840wGMdD4wxr2A34Oazh14RE9li\n",
            "350/460 title: 000828.jpg, id: 1NY5Bgmi__0Ml8r_lOb-ollOD51fAruKG\n",
            "400/460 title: 000596.jpg, id: 17fuuwqFxk_47rbCK5RD8GmqbtbVLcdI3\n",
            "450/460 title: 000905.jpg, id: 1nAD6ytvPGMi-ujipVyl_yncnEy7aHHZ7\n",
            "list files len= 460\n",
            "0/460 title: 001009.jpg, id: 13QKBljJonwcTsRsBwZ9Fm69tmnX-r_R8\n",
            "50/460 title: 001029.jpg, id: 1SsDqU6Up_u5gGXJIXf42ucZFCuGQ5mCE\n",
            "100/460 title: 000825.jpg, id: 1drwBNBBVJzMCYWXFSl1oCQnQuFv5etTX\n",
            "150/460 title: 000611.jpg, id: 1UTqLK5B0jcNdtjrQ7X4gHke13AMrmyzb\n",
            "200/460 title: 000460.jpg, id: 1bZgysAx4ZSObqV-RRRaB4zvPZ0HFmZTi\n",
            "250/460 title: 000302.jpg, id: 1F9Km9Mnk50rk1_Wx1MjyMgosBW-D8hCd\n"
          ],
          "name": "stdout"
        }
      ]
    }
  ]
}